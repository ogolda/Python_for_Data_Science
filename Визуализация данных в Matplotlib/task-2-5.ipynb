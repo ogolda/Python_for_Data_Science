{
 "cells": [
  {
   "cell_type": "code",
   "execution_count": 7,
   "id": "20a84a07",
   "metadata": {},
   "outputs": [
    {
     "data": {
      "text/plain": [
       "array([12, 13, 14, 15, 16, 17, 18, 19, 20, 21, 22, 23])"
      ]
     },
     "execution_count": 7,
     "metadata": {},
     "output_type": "execute_result"
    }
   ],
   "source": [
    "import numpy as np\n",
    "import pandas as pd\n",
    "\n",
    "\n",
    "#Создать одномерный массив Numpy под названием a из 12 последовательных целых чисел чисел от 12 до 24 невключительно\n",
    "a = np.arange(12, 24)\n",
    "a"
   ]
  },
  {
   "cell_type": "code",
   "execution_count": 24,
   "id": "d7a58b0e",
   "metadata": {},
   "outputs": [
    {
     "name": "stdout",
     "output_type": "stream",
     "text": [
      "[[12 13 14 15 16 17]\n",
      " [18 19 20 21 22 23]]\n",
      "[[12 13 14 15]\n",
      " [16 17 18 19]\n",
      " [20 21 22 23]]\n",
      "[[12 13 14]\n",
      " [15 16 17]\n",
      " [18 19 20]\n",
      " [21 22 23]]\n",
      "[[12 13]\n",
      " [14 15]\n",
      " [16 17]\n",
      " [18 19]\n",
      " [20 21]\n",
      " [22 23]]\n",
      "[[12]\n",
      " [13]\n",
      " [14]\n",
      " [15]\n",
      " [16]\n",
      " [17]\n",
      " [18]\n",
      " [19]\n",
      " [20]\n",
      " [21]\n",
      " [22]\n",
      " [23]]\n"
     ]
    }
   ],
   "source": [
    "#Создать 5 двумерных массивов разной формы из массива a. Не использовать в аргументах метода reshape число -1.\n",
    "a1 = a.reshape(2, 6)\n",
    "a2 = a.reshape(3, 4)\n",
    "a3 = a.reshape(4, 3)\n",
    "a4 = a.reshape(6, 2)\n",
    "a5 = a.reshape(12, 1)\n",
    "\n",
    "print(a1)\n",
    "print(a2)\n",
    "print(a3)\n",
    "print(a4)\n",
    "print(a5)"
   ]
  },
  {
   "cell_type": "code",
   "execution_count": 25,
   "id": "afae666e",
   "metadata": {},
   "outputs": [],
   "source": [
    "#Можно ли массив Numpy, состоящий из одного столбца и 12 строк, назвать одномерным?\n",
    "#Ответ: нет\n",
    "\n"
   ]
  },
  {
   "cell_type": "code",
   "execution_count": 31,
   "id": "3e7b7d54",
   "metadata": {},
   "outputs": [
    {
     "name": "stdout",
     "output_type": "stream",
     "text": [
      "[[ 0.77971659  0.67302439  0.7399664  -1.18420434 -0.13428878  0.65237921\n",
      "   0.10880423  0.63600962  0.10165045  2.71956079 -1.85967972  0.41663698]]\n"
     ]
    }
   ],
   "source": [
    "#Создать массив из 3 строк и 4 столбцов, состоящий из случайных чисел с плавающей запятой из нормального распределения со средним, равным 0 и среднеквадратичным отклонением, равным 1.0. \n",
    "#Получить из этого массива одномерный массив с таким же атрибутом size, как и исходный массив.\n",
    "x = np.random.randn(3, 4) \n",
    "x1 = x.reshape(1, 12)\n",
    "print(x1)"
   ]
  },
  {
   "cell_type": "code",
   "execution_count": 32,
   "id": "24a1783f",
   "metadata": {},
   "outputs": [
    {
     "data": {
      "text/plain": [
       "array([20, 18, 16, 14, 12, 10,  8,  6,  4,  2])"
      ]
     },
     "execution_count": 32,
     "metadata": {},
     "output_type": "execute_result"
    }
   ],
   "source": [
    "#Создать массив a, состоящий из целых чисел, убывающих от 20 до 0 невключительно с интервалом 2.\n",
    "a = np.arange(20, 0, -2)\n",
    "a"
   ]
  },
  {
   "cell_type": "code",
   "execution_count": 35,
   "id": "916b0081",
   "metadata": {},
   "outputs": [
    {
     "data": {
      "text/plain": [
       "array([[20, 18, 16, 14, 12, 10,  8,  6,  4,  2]])"
      ]
     },
     "execution_count": 35,
     "metadata": {},
     "output_type": "execute_result"
    }
   ],
   "source": [
    "#Создать массив b, состоящий из 1 строки и 10 столбцов: целых чисел, убывающих от 20 до 1 невключительно с интервалом 2. \n",
    "#В чем разница между массивами a и b? (Ответ: массив b двумерный)\n",
    "b = np.arange(20, 1, -2)\n",
    "b = b.reshape(1, 10)\n",
    "b\n"
   ]
  },
  {
   "cell_type": "code",
   "execution_count": 58,
   "id": "b1c1e011",
   "metadata": {},
   "outputs": [
    {
     "data": {
      "text/plain": [
       "10"
      ]
     },
     "execution_count": 58,
     "metadata": {},
     "output_type": "execute_result"
    }
   ],
   "source": [
    "#Вертикально соединить массивы a и b. a - двумерный массив из нулей, число строк которого больше 1 и на 1 меньше, \n",
    "#чем число строк двумерного массива b, состоящего из единиц. Итоговый массив v должен иметь атрибут size, равный 10.\n",
    "a = np.zeros((2, 2))\n",
    "b = np.ones((3,2))\n",
    "v = np.vstack((a, b))\n",
    "v.size\n"
   ]
  },
  {
   "cell_type": "code",
   "execution_count": 63,
   "id": "761a84ac",
   "metadata": {},
   "outputs": [
    {
     "name": "stdout",
     "output_type": "stream",
     "text": [
      "[[  5  14  23  32]\n",
      " [ 14  50  86 122]\n",
      " [ 23  86 149 212]\n",
      " [ 32 122 212 302]]\n"
     ]
    },
    {
     "data": {
      "text/plain": [
       "0.0"
      ]
     },
     "execution_count": 63,
     "metadata": {},
     "output_type": "execute_result"
    }
   ],
   "source": [
    "#Создать одномерный массив а, состоящий из последовательности целых чисел от 0 до 12. \n",
    "#Поменять форму этого массива, чтобы получилась матрица A (двумерный массив Numpy), состоящая из 4 строк и 3 столбцов. \n",
    "#Получить матрицу At путем транспонирования матрицы A. Получить матрицу B, умножив матрицу A на матрицу At с помощью матричного умножения. \n",
    "#Какой размер имеет матрица B? Получится ли вычислить обратную матрицу для матрицы B и почему?\n",
    "a = np.arange(0, 12, 1)\n",
    "a = a.reshape(4, 3)\n",
    "at = a.transpose()\n",
    "b = np.dot(a, at)\n",
    "print(b)\n",
    "b.shape\n",
    "res = np.linalg.det(b)\n",
    "res\n",
    "#Ответ: определитель матрицы = 0, соответственно для матрицы b обратная матрица не существует"
   ]
  },
  {
   "cell_type": "code",
   "execution_count": 64,
   "id": "a23238b6",
   "metadata": {},
   "outputs": [],
   "source": [
    "#Инициализируйте генератор случайных числе с помощью объекта seed, равного 42.\n",
    "np.random.seed(42)"
   ]
  },
  {
   "cell_type": "code",
   "execution_count": 67,
   "id": "ef22bb5d",
   "metadata": {},
   "outputs": [
    {
     "data": {
      "text/plain": [
       "array([ 3,  7,  7,  2,  5,  4,  1,  7, 11, 13,  5,  1, 15, 11,  4,  0])"
      ]
     },
     "execution_count": 67,
     "metadata": {},
     "output_type": "execute_result"
    }
   ],
   "source": [
    "#Создайте одномерный массив c, составленный из последовательности 16-ти случайных равномерно \n",
    "#распределенных целых чисел от 0 до 16 невключительно. \n",
    "c = np.random.randint(0, 16, 16)\n",
    "c"
   ]
  },
  {
   "cell_type": "code",
   "execution_count": 93,
   "id": "033672f9",
   "metadata": {},
   "outputs": [
    {
     "name": "stdout",
     "output_type": "stream",
     "text": [
      "-23404999.999999978\n",
      "4\n",
      "[[-0.02745824 -0.02127921 -0.00030506  0.01848067]\n",
      " [-0.00983038 -0.00115445  0.03006537 -0.01967443]\n",
      " [ 0.03091391  0.00259603 -0.0266755   0.01263576]\n",
      " [-0.00169622  0.01154454 -0.00065371 -0.00325571]]\n"
     ]
    }
   ],
   "source": [
    "#Поменяйте его форму так, чтобы получилась квадратная матрица C. \n",
    "#Получите матрицу D, поэлементно прибавив матрицу B из предыдущего вопроса к матрице C, умноженной на 10. \n",
    "#Вычислите определитель, ранг и обратную матрицу D_inv для D.\n",
    "c = c.reshape(4, 4)\n",
    "d = np.add(b, c*10)\n",
    "det = np.linalg.det(d)\n",
    "ra = np.linalg.matrix_rank(d)\n",
    "d_inv = np.linalg.inv(d)\n",
    "print(det)\n",
    "print(ra)\n",
    "print(d_inv)\n"
   ]
  },
  {
   "cell_type": "code",
   "execution_count": 94,
   "id": "004b0653",
   "metadata": {
    "scrolled": true
   },
   "outputs": [
    {
     "name": "stdout",
     "output_type": "stream",
     "text": [
      "[[-0.02745824 -0.02127921 -0.00030506  0.01848067]\n",
      " [-0.00983038 -0.00115445  0.03006537 -0.01967443]\n",
      " [ 0.03091391  0.00259603 -0.0266755   0.01263576]\n",
      " [-0.00169622  0.01154454 -0.00065371 -0.00325571]]\n",
      "[[0. 0. 0. 1.]\n",
      " [0. 0. 1. 0.]\n",
      " [1. 1. 0. 1.]\n",
      " [0. 1. 0. 0.]]\n",
      "[[  5  14  23  32]\n",
      " [ 14  50  86 122]\n",
      " [ 23  86 149 212]\n",
      " [ 32 122 212 302]]\n",
      "[[ 3  7  7  2]\n",
      " [ 5  4  1  7]\n",
      " [11 13  5  1]\n",
      " [15 11  4  0]]\n",
      "[[  3   7   7  32]\n",
      " [  5   4  86   7]\n",
      " [ 23  86   5 212]\n",
      " [ 15 122   4   0]]\n"
     ]
    }
   ],
   "source": [
    "#Приравняйте к нулю отрицательные числа в матрице D_inv, а положительные - к единице. \n",
    "#Убедитесь, что в матрице D_inv остались только нули и единицы. \n",
    "#С помощью функции numpy.where, используя матрицу D_inv в качестве маски, \n",
    "#а матрицы B и C - в качестве источников данных, получите матрицу E размером 4x4.  \n",
    "#Элементы матрицы E, для которых соответствующий элемент матрицы D_inv равен 1, \n",
    "#должны быть равны соответствующему элементу матрицы B, а элементы матрицы E, \n",
    "#для которых соответствующий элемент матрицы D_inv равен 0, должны быть равны соответствующему элементу матрицы C.\n",
    "print(d_inv)\n",
    "for i in range(4):\n",
    "    for j in range(4):\n",
    "        if d_inv[i][j] < 0:\n",
    "            d_inv[i][j] = 0\n",
    "        else :\n",
    "            d_inv[i][j] = 1\n",
    "print(d_inv)\n",
    "print(b)\n",
    "print(c)\n",
    "e = np.where(d_inv == 1, b, c)\n",
    "print(e)"
   ]
  },
  {
   "cell_type": "code",
   "execution_count": null,
   "id": "2927bf99",
   "metadata": {},
   "outputs": [],
   "source": []
  },
  {
   "cell_type": "code",
   "execution_count": null,
   "id": "10e445fb",
   "metadata": {},
   "outputs": [],
   "source": []
  }
 ],
 "metadata": {
  "kernelspec": {
   "display_name": "Python 3 (ipykernel)",
   "language": "python",
   "name": "python3"
  },
  "language_info": {
   "codemirror_mode": {
    "name": "ipython",
    "version": 3
   },
   "file_extension": ".py",
   "mimetype": "text/x-python",
   "name": "python",
   "nbconvert_exporter": "python",
   "pygments_lexer": "ipython3",
   "version": "3.9.7"
  }
 },
 "nbformat": 4,
 "nbformat_minor": 5
}
