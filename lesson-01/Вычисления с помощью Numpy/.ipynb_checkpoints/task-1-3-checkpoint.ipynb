{
 "cells": [
  {
   "cell_type": "code",
   "execution_count": 6,
   "id": "339c21ca",
   "metadata": {},
   "outputs": [],
   "source": [
    "#Задание 3\n",
    "#Найдите скалярное произведение столбцов массива a_centered. \n",
    "#В результате должна получиться величина a_centered_sp. \n",
    "#Затем поделите a_centered_sp на N-1, где N - число наблюдений.\n",
    "\n",
    "\n",
    "import numpy as np\n",
    "a = np.array([[1, 6],\n",
    "          [2, 8],\n",
    "          [3, 11],\n",
    "          [3, 10],\n",
    "          [1, 7]])\n",
    "\n",
    "mean_a = a.mean(axis=0)\n",
    "a_centered = np.subtract(a, mean_a)"
   ]
  },
  {
   "cell_type": "code",
   "execution_count": 9,
   "id": "d86c298b",
   "metadata": {},
   "outputs": [
    {
     "data": {
      "text/plain": [
       "array([2.])"
      ]
     },
     "execution_count": 9,
     "metadata": {},
     "output_type": "execute_result"
    }
   ],
   "source": [
    "a1 = a_centered[0:, 0:1].copy()\n",
    "a2 = a_centered[0:, 1:].copy()\n",
    "a_centered_sp = a1[0]*a2[0]+a1[1]*a2[1]+a1[2]*a2[2]+a1[3]*a2[3]+a1[4]*a2[4]\n",
    "a_centered_sp/4"
   ]
  },
  {
   "cell_type": "code",
   "execution_count": null,
   "id": "97e678b3",
   "metadata": {},
   "outputs": [],
   "source": []
  }
 ],
 "metadata": {
  "kernelspec": {
   "display_name": "Python 3 (ipykernel)",
   "language": "python",
   "name": "python3"
  },
  "language_info": {
   "codemirror_mode": {
    "name": "ipython",
    "version": 3
   },
   "file_extension": ".py",
   "mimetype": "text/x-python",
   "name": "python",
   "nbconvert_exporter": "python",
   "pygments_lexer": "ipython3",
   "version": "3.9.7"
  }
 },
 "nbformat": 4,
 "nbformat_minor": 5
}
